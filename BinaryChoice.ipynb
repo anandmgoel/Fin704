{
 "cells": [
  {
   "cell_type": "markdown",
   "id": "6bc14cbd-8622-4562-9c73-84d9ee89b626",
   "metadata": {
    "tags": []
   },
   "source": [
    "# Fin 704: Econometric Theory and Applications\n",
    "We will use Jupyter notebooks for some examples. This is one such notebook. As in any Python notebook, there are two types of cells, this one is a Markdown cell with text. The next rectangle is a code cell (as seen from square bracket to the left of the cell). Code cells can be executed by placing cursor in the cell and pressing Shift and Enter keys.\n",
    "\n",
    "We start by first importing libraries that are useful for mathematical calculations and graphics. NumPy is a library with support for multi-dimensional arrays and matrices and other mathematical functions. Matplotlib is a plotting library."
   ]
  },
  {
   "cell_type": "code",
   "execution_count": 40,
   "id": "ce3dc767-0166-465c-95b6-eef3d6afd323",
   "metadata": {},
   "outputs": [],
   "source": [
    "import numpy as np\n",
    "import matplotlib.pyplot as plt"
   ]
  },
  {
   "cell_type": "markdown",
   "id": "9aca06e6-b345-4542-bfda-120880a2b72e",
   "metadata": {},
   "source": [
    "We next download a zip file and unzip it to get the required data file."
   ]
  },
  {
   "cell_type": "code",
   "execution_count": 41,
   "id": "c4d9ab0c-21fd-4376-bcbc-a706c6de1df8",
   "metadata": {},
   "outputs": [
    {
     "data": {
      "text/plain": [
       "'/mnt/c/Users/Anand/Documents/Stevens/Teaching/Fin 704/Code/cps09mar/cps09mar.txt'"
      ]
     },
     "execution_count": 41,
     "metadata": {},
     "output_type": "execute_result"
    }
   ],
   "source": [
    "from urllib.request import urlretrieve\n",
    "from zipfile import ZipFile\n",
    "url = \"https://www.ssc.wisc.edu/~bhansen/econometrics/Econometrics%20Data.zip\"\n",
    "filename = \"Econometrics_Data.zip\"\n",
    "urlretrieve(url, filename)\n",
    "ZipFile(filename).extract(\"cps09mar/cps09mar.txt\")"
   ]
  },
  {
   "cell_type": "markdown",
   "id": "a01ca4a8-c977-41e9-b912-76f948f5f255",
   "metadata": {},
   "source": [
    "We next import pandas library for data manipulation and analysis and use it to read the data set. We then use head function to see the first few rows of the data."
   ]
  },
  {
   "cell_type": "code",
   "execution_count": 42,
   "id": "f72ea989-53d4-42fb-9c7b-980db90e35bb",
   "metadata": {},
   "outputs": [
    {
     "data": {
      "text/html": [
       "<div>\n",
       "<style scoped>\n",
       "    .dataframe tbody tr th:only-of-type {\n",
       "        vertical-align: middle;\n",
       "    }\n",
       "\n",
       "    .dataframe tbody tr th {\n",
       "        vertical-align: top;\n",
       "    }\n",
       "\n",
       "    .dataframe thead th {\n",
       "        text-align: right;\n",
       "    }\n",
       "</style>\n",
       "<table border=\"1\" class=\"dataframe\">\n",
       "  <thead>\n",
       "    <tr style=\"text-align: right;\">\n",
       "      <th></th>\n",
       "      <th>age</th>\n",
       "      <th>female</th>\n",
       "      <th>hisp</th>\n",
       "      <th>education</th>\n",
       "      <th>earnings</th>\n",
       "      <th>hours</th>\n",
       "      <th>week</th>\n",
       "      <th>union</th>\n",
       "      <th>uncov</th>\n",
       "      <th>region</th>\n",
       "      <th>race</th>\n",
       "      <th>marital</th>\n",
       "    </tr>\n",
       "  </thead>\n",
       "  <tbody>\n",
       "    <tr>\n",
       "      <th>0</th>\n",
       "      <td>52</td>\n",
       "      <td>0</td>\n",
       "      <td>0</td>\n",
       "      <td>12</td>\n",
       "      <td>146000</td>\n",
       "      <td>45</td>\n",
       "      <td>52</td>\n",
       "      <td>0</td>\n",
       "      <td>0</td>\n",
       "      <td>1</td>\n",
       "      <td>1</td>\n",
       "      <td>1</td>\n",
       "    </tr>\n",
       "    <tr>\n",
       "      <th>1</th>\n",
       "      <td>38</td>\n",
       "      <td>0</td>\n",
       "      <td>0</td>\n",
       "      <td>18</td>\n",
       "      <td>50000</td>\n",
       "      <td>45</td>\n",
       "      <td>52</td>\n",
       "      <td>0</td>\n",
       "      <td>0</td>\n",
       "      <td>1</td>\n",
       "      <td>1</td>\n",
       "      <td>1</td>\n",
       "    </tr>\n",
       "    <tr>\n",
       "      <th>2</th>\n",
       "      <td>38</td>\n",
       "      <td>0</td>\n",
       "      <td>0</td>\n",
       "      <td>14</td>\n",
       "      <td>32000</td>\n",
       "      <td>40</td>\n",
       "      <td>51</td>\n",
       "      <td>0</td>\n",
       "      <td>0</td>\n",
       "      <td>1</td>\n",
       "      <td>1</td>\n",
       "      <td>1</td>\n",
       "    </tr>\n",
       "    <tr>\n",
       "      <th>3</th>\n",
       "      <td>41</td>\n",
       "      <td>1</td>\n",
       "      <td>0</td>\n",
       "      <td>13</td>\n",
       "      <td>47000</td>\n",
       "      <td>40</td>\n",
       "      <td>52</td>\n",
       "      <td>0</td>\n",
       "      <td>0</td>\n",
       "      <td>1</td>\n",
       "      <td>1</td>\n",
       "      <td>1</td>\n",
       "    </tr>\n",
       "    <tr>\n",
       "      <th>4</th>\n",
       "      <td>42</td>\n",
       "      <td>0</td>\n",
       "      <td>0</td>\n",
       "      <td>13</td>\n",
       "      <td>161525</td>\n",
       "      <td>50</td>\n",
       "      <td>52</td>\n",
       "      <td>1</td>\n",
       "      <td>0</td>\n",
       "      <td>1</td>\n",
       "      <td>1</td>\n",
       "      <td>1</td>\n",
       "    </tr>\n",
       "  </tbody>\n",
       "</table>\n",
       "</div>"
      ],
      "text/plain": [
       "   age  female  hisp  education  earnings  hours  week  union  uncov  region  \\\n",
       "0   52       0     0         12    146000     45    52      0      0       1   \n",
       "1   38       0     0         18     50000     45    52      0      0       1   \n",
       "2   38       0     0         14     32000     40    51      0      0       1   \n",
       "3   41       1     0         13     47000     40    52      0      0       1   \n",
       "4   42       0     0         13    161525     50    52      1      0       1   \n",
       "\n",
       "   race  marital  \n",
       "0     1        1  \n",
       "1     1        1  \n",
       "2     1        1  \n",
       "3     1        1  \n",
       "4     1        1  "
      ]
     },
     "execution_count": 42,
     "metadata": {},
     "output_type": "execute_result"
    }
   ],
   "source": [
    "import pandas as pd\n",
    "df = pd.read_csv(\"cps09mar/cps09mar.txt\",sep = \"\\t\", header=None)\n",
    "df.columns = [\"age\", \"female\", \"hisp\", \"education\", \"earnings\", \"hours\", \"week\", \"union\", \"uncov\", \"region\", \"race\", \"marital\"]\n",
    "df.head()"
   ]
  },
  {
   "cell_type": "markdown",
   "id": "4028fb4b-12b6-4e5c-9cd0-572594725d74",
   "metadata": {},
   "source": [
    "The shape function gives the number of observtions and the number of variables."
   ]
  },
  {
   "cell_type": "code",
   "execution_count": 43,
   "id": "5c539f98-bd94-46a6-b58d-7dc014ce9184",
   "metadata": {},
   "outputs": [
    {
     "data": {
      "text/plain": [
       "(50742, 12)"
      ]
     },
     "execution_count": 43,
     "metadata": {},
     "output_type": "execute_result"
    }
   ],
   "source": [
    "df.shape"
   ]
  },
  {
   "cell_type": "markdown",
   "id": "e06ee4a3-eefa-4cec-8560-95fc86db6630",
   "metadata": {},
   "source": [
    "The function describe can be used to see summary statistics for the variables in the data."
   ]
  },
  {
   "cell_type": "code",
   "execution_count": 44,
   "id": "67bef8e2-d168-450e-866f-58e67238545f",
   "metadata": {},
   "outputs": [
    {
     "data": {
      "text/html": [
       "<div>\n",
       "<style scoped>\n",
       "    .dataframe tbody tr th:only-of-type {\n",
       "        vertical-align: middle;\n",
       "    }\n",
       "\n",
       "    .dataframe tbody tr th {\n",
       "        vertical-align: top;\n",
       "    }\n",
       "\n",
       "    .dataframe thead th {\n",
       "        text-align: right;\n",
       "    }\n",
       "</style>\n",
       "<table border=\"1\" class=\"dataframe\">\n",
       "  <thead>\n",
       "    <tr style=\"text-align: right;\">\n",
       "      <th></th>\n",
       "      <th>age</th>\n",
       "      <th>female</th>\n",
       "      <th>hisp</th>\n",
       "      <th>education</th>\n",
       "      <th>earnings</th>\n",
       "      <th>hours</th>\n",
       "      <th>week</th>\n",
       "      <th>union</th>\n",
       "      <th>uncov</th>\n",
       "      <th>region</th>\n",
       "      <th>race</th>\n",
       "      <th>marital</th>\n",
       "    </tr>\n",
       "  </thead>\n",
       "  <tbody>\n",
       "    <tr>\n",
       "      <th>count</th>\n",
       "      <td>50742.000000</td>\n",
       "      <td>50742.000000</td>\n",
       "      <td>50742.000000</td>\n",
       "      <td>50742.000000</td>\n",
       "      <td>50742.000000</td>\n",
       "      <td>50742.000000</td>\n",
       "      <td>50742.000000</td>\n",
       "      <td>50742.000000</td>\n",
       "      <td>50742.000000</td>\n",
       "      <td>50742.000000</td>\n",
       "      <td>50742.000000</td>\n",
       "      <td>50742.000000</td>\n",
       "    </tr>\n",
       "    <tr>\n",
       "      <th>mean</th>\n",
       "      <td>42.131725</td>\n",
       "      <td>0.425722</td>\n",
       "      <td>0.148792</td>\n",
       "      <td>13.924619</td>\n",
       "      <td>55091.530685</td>\n",
       "      <td>43.827244</td>\n",
       "      <td>51.879272</td>\n",
       "      <td>0.021521</td>\n",
       "      <td>0.002207</td>\n",
       "      <td>2.635627</td>\n",
       "      <td>1.433507</td>\n",
       "      <td>2.763174</td>\n",
       "    </tr>\n",
       "    <tr>\n",
       "      <th>std</th>\n",
       "      <td>11.487620</td>\n",
       "      <td>0.494457</td>\n",
       "      <td>0.355887</td>\n",
       "      <td>2.744447</td>\n",
       "      <td>52222.071166</td>\n",
       "      <td>7.704467</td>\n",
       "      <td>0.598646</td>\n",
       "      <td>0.145113</td>\n",
       "      <td>0.046930</td>\n",
       "      <td>1.060051</td>\n",
       "      <td>1.317430</td>\n",
       "      <td>2.503158</td>\n",
       "    </tr>\n",
       "    <tr>\n",
       "      <th>min</th>\n",
       "      <td>15.000000</td>\n",
       "      <td>0.000000</td>\n",
       "      <td>0.000000</td>\n",
       "      <td>0.000000</td>\n",
       "      <td>1.000000</td>\n",
       "      <td>36.000000</td>\n",
       "      <td>48.000000</td>\n",
       "      <td>0.000000</td>\n",
       "      <td>0.000000</td>\n",
       "      <td>1.000000</td>\n",
       "      <td>1.000000</td>\n",
       "      <td>1.000000</td>\n",
       "    </tr>\n",
       "    <tr>\n",
       "      <th>25%</th>\n",
       "      <td>33.000000</td>\n",
       "      <td>0.000000</td>\n",
       "      <td>0.000000</td>\n",
       "      <td>12.000000</td>\n",
       "      <td>28000.000000</td>\n",
       "      <td>40.000000</td>\n",
       "      <td>52.000000</td>\n",
       "      <td>0.000000</td>\n",
       "      <td>0.000000</td>\n",
       "      <td>2.000000</td>\n",
       "      <td>1.000000</td>\n",
       "      <td>1.000000</td>\n",
       "    </tr>\n",
       "    <tr>\n",
       "      <th>50%</th>\n",
       "      <td>42.000000</td>\n",
       "      <td>0.000000</td>\n",
       "      <td>0.000000</td>\n",
       "      <td>13.000000</td>\n",
       "      <td>42000.000000</td>\n",
       "      <td>40.000000</td>\n",
       "      <td>52.000000</td>\n",
       "      <td>0.000000</td>\n",
       "      <td>0.000000</td>\n",
       "      <td>3.000000</td>\n",
       "      <td>1.000000</td>\n",
       "      <td>1.000000</td>\n",
       "    </tr>\n",
       "    <tr>\n",
       "      <th>75%</th>\n",
       "      <td>51.000000</td>\n",
       "      <td>1.000000</td>\n",
       "      <td>0.000000</td>\n",
       "      <td>16.000000</td>\n",
       "      <td>65000.000000</td>\n",
       "      <td>45.000000</td>\n",
       "      <td>52.000000</td>\n",
       "      <td>0.000000</td>\n",
       "      <td>0.000000</td>\n",
       "      <td>4.000000</td>\n",
       "      <td>1.000000</td>\n",
       "      <td>5.000000</td>\n",
       "    </tr>\n",
       "    <tr>\n",
       "      <th>max</th>\n",
       "      <td>85.000000</td>\n",
       "      <td>1.000000</td>\n",
       "      <td>1.000000</td>\n",
       "      <td>20.000000</td>\n",
       "      <td>561087.000000</td>\n",
       "      <td>99.000000</td>\n",
       "      <td>52.000000</td>\n",
       "      <td>1.000000</td>\n",
       "      <td>1.000000</td>\n",
       "      <td>4.000000</td>\n",
       "      <td>21.000000</td>\n",
       "      <td>7.000000</td>\n",
       "    </tr>\n",
       "  </tbody>\n",
       "</table>\n",
       "</div>"
      ],
      "text/plain": [
       "                age        female          hisp     education       earnings  \\\n",
       "count  50742.000000  50742.000000  50742.000000  50742.000000   50742.000000   \n",
       "mean      42.131725      0.425722      0.148792     13.924619   55091.530685   \n",
       "std       11.487620      0.494457      0.355887      2.744447   52222.071166   \n",
       "min       15.000000      0.000000      0.000000      0.000000       1.000000   \n",
       "25%       33.000000      0.000000      0.000000     12.000000   28000.000000   \n",
       "50%       42.000000      0.000000      0.000000     13.000000   42000.000000   \n",
       "75%       51.000000      1.000000      0.000000     16.000000   65000.000000   \n",
       "max       85.000000      1.000000      1.000000     20.000000  561087.000000   \n",
       "\n",
       "              hours          week         union         uncov        region  \\\n",
       "count  50742.000000  50742.000000  50742.000000  50742.000000  50742.000000   \n",
       "mean      43.827244     51.879272      0.021521      0.002207      2.635627   \n",
       "std        7.704467      0.598646      0.145113      0.046930      1.060051   \n",
       "min       36.000000     48.000000      0.000000      0.000000      1.000000   \n",
       "25%       40.000000     52.000000      0.000000      0.000000      2.000000   \n",
       "50%       40.000000     52.000000      0.000000      0.000000      3.000000   \n",
       "75%       45.000000     52.000000      0.000000      0.000000      4.000000   \n",
       "max       99.000000     52.000000      1.000000      1.000000      4.000000   \n",
       "\n",
       "               race       marital  \n",
       "count  50742.000000  50742.000000  \n",
       "mean       1.433507      2.763174  \n",
       "std        1.317430      2.503158  \n",
       "min        1.000000      1.000000  \n",
       "25%        1.000000      1.000000  \n",
       "50%        1.000000      1.000000  \n",
       "75%        1.000000      5.000000  \n",
       "max       21.000000      7.000000  "
      ]
     },
     "execution_count": 44,
     "metadata": {},
     "output_type": "execute_result"
    }
   ],
   "source": [
    "df.describe()"
   ]
  },
  {
   "cell_type": "markdown",
   "id": "1a5d6cff-1cc8-4308-af5c-52e154754676",
   "metadata": {},
   "source": [
    "We consider the subsample of 19-80 year old males with 16 years of education and create a binary variable married."
   ]
  },
  {
   "cell_type": "code",
   "execution_count": 45,
   "id": "c47c828e-c297-49ac-8788-67cc7cef146a",
   "metadata": {},
   "outputs": [
    {
     "data": {
      "text/plain": [
       "(6441, 13)"
      ]
     },
     "execution_count": 45,
     "metadata": {},
     "output_type": "execute_result"
    }
   ],
   "source": [
    "df = df[(df.female == 0) & (df.age >= 19) & (df.age <= 80) & (df.education ==16)]\n",
    "df['married'] = (df.marital == 1) | (df.marital == 2) | (df.marital == 3) | (df.marital == 4)\n",
    "df.shape"
   ]
  },
  {
   "cell_type": "markdown",
   "id": "16e911ae-063b-4e01-8817-d34da3a23e7b",
   "metadata": {
    "tags": []
   },
   "source": [
    "## Logit with Maximum LikeLihood Estimation\n",
    "The following loop updates  intercept a and slope b until log likelihood is maximized. The likelihood and first and second derivatives expressions are for the case of two parameters."
   ]
  },
  {
   "cell_type": "code",
   "execution_count": 46,
   "id": "168611a4-3888-4de4-963d-02ac13bbbf21",
   "metadata": {},
   "outputs": [
    {
     "name": "stdout",
     "output_type": "stream",
     "text": [
      "Iteration  0 : a =  0.759819903741655 , b =  0 , Log Likelihood =  -3647.0531829162856\n",
      "Iteration  1 : a =  -0.8105948053138902 , b =  0.04558019729979336 , Log Likelihood =  -3354.2026116182747\n",
      "Iteration  2 : a =  -1.2580144914461049 , b =  0.05904278567450624 , Log Likelihood =  -3337.731477769431\n",
      "Iteration  3 : a =  -1.3030094665018335 , b =  0.06041337682892486 , Log Likelihood =  -3337.5912701515545\n",
      "Iteration  4 : a =  -1.3034425884927716 , b =  0.06042666673485541 , Log Likelihood =  -3337.5912570116316\n"
     ]
    }
   ],
   "source": [
    "iter = 0\n",
    "a = df['married'].mean()\n",
    "#a = 0\n",
    "b = 0\n",
    "df['z'] = pd.eval('(a + b * df.age) * (2 * df.married - 1)')\n",
    "LL =  pd.eval('log(1 /(1 + exp(-df.z)))').sum()\n",
    "while True:\n",
    "    print('Iteration ',iter,': a = ',a,', b = ',b,', Log Likelihood = ',LL)\n",
    "    dLL_da =  pd.eval('(2 * df.married - 1) /(1 + exp(df.z))').sum()\n",
    "    dLL_db =  pd.eval('(2 * df.married - 1) * df.age /(1 + exp(df.z))').sum()\n",
    "    d2LL_da2 = pd.eval('- exp(df.z) /(1 + exp(df.z)) ** 2').sum()\n",
    "    d2LL_db2 = pd.eval('- exp(df.z) * df.age ** 2 /(1 + exp(df.z)) ** 2').sum()\n",
    "    d2LL_dadb = pd.eval('- exp(df.z) * df.age /(1 + exp(df.z)) ** 2').sum()\n",
    "    newa = a - (d2LL_db2 * dLL_da - d2LL_dadb * dLL_db) / (d2LL_da2 * d2LL_db2 - d2LL_dadb ** 2)\n",
    "    newb = b - (d2LL_da2 * dLL_db - d2LL_dadb * dLL_da) / (d2LL_da2 * d2LL_db2 - d2LL_dadb ** 2)\n",
    "    df['z'] = pd.eval('(newa + newb * df.age) * (2 * df.married - 1)')\n",
    "    newLL =  pd.eval('log(1 /(1 + exp(-df.z)))').sum()\n",
    "    converged = (abs(newa -a) < 0.00001) & (abs(newb -b) < 0.00001) & (abs(newLL -LL) < 0.00001)\n",
    "    a = newa\n",
    "    b = newb\n",
    "    LL = newLL\n",
    "    iter = iter + 1\n",
    "    if converged:\n",
    "        break\n",
    "df = df.drop('z', axis=1)"
   ]
  }
 ],
 "metadata": {
  "kernelspec": {
   "display_name": "Python 3 (ipykernel)",
   "language": "python",
   "name": "python3"
  },
  "language_info": {
   "codemirror_mode": {
    "name": "ipython",
    "version": 3
   },
   "file_extension": ".py",
   "mimetype": "text/x-python",
   "name": "python",
   "nbconvert_exporter": "python",
   "pygments_lexer": "ipython3",
   "version": "3.10.12"
  }
 },
 "nbformat": 4,
 "nbformat_minor": 5
}
