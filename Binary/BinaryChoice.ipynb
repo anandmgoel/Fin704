{
 "cells": [
  {
   "cell_type": "markdown",
   "id": "6bc14cbd-8622-4562-9c73-84d9ee89b626",
   "metadata": {
    "tags": []
   },
   "source": [
    "# Fin 704: Econometric Theory and Applications\n",
    "We will use Jupyter notebooks for some examples. This is one such notebook. As in any Python notebook, there are two types of cells, this one is a Markdown cell with text. The next rectangle is a code cell (as seen from square bracket to the left of the cell). Code cells can be executed by placing cursor in the cell and pressing Shift and Enter keys.\n",
    "\n",
    "We start by first importing libraries that are useful for mathematical calculations and graphics. NumPy is a library with support for multi-dimensional arrays and matrices and other mathematical functions. Matplotlib is a plotting library."
   ]
  },
  {
   "cell_type": "code",
   "execution_count": null,
   "id": "ce3dc767-0166-465c-95b6-eef3d6afd323",
   "metadata": {},
   "outputs": [],
   "source": [
    "import numpy as np\n",
    "import matplotlib.pyplot as plt"
   ]
  },
  {
   "cell_type": "markdown",
   "id": "9aca06e6-b345-4542-bfda-120880a2b72e",
   "metadata": {},
   "source": [
    "We next download a zip file and unzip it to get the required data file."
   ]
  },
  {
   "cell_type": "code",
   "execution_count": null,
   "id": "c4d9ab0c-21fd-4376-bcbc-a706c6de1df8",
   "metadata": {},
   "outputs": [],
   "source": [
    "from urllib.request import urlretrieve\n",
    "from zipfile import ZipFile\n",
    "url = \"https://www.ssc.wisc.edu/~bhansen/econometrics/Econometrics%20Data.zip\"\n",
    "filename = \"Econometrics_Data.zip\"\n",
    "urlretrieve(url, filename)\n",
    "ZipFile(filename).extract(\"cps09mar/cps09mar.txt\")"
   ]
  },
  {
   "cell_type": "markdown",
   "id": "a01ca4a8-c977-41e9-b912-76f948f5f255",
   "metadata": {},
   "source": [
    "We next import pandas library for data manipulation and analysis and use it to read the data set. We then use head function to see the first few rows of the data."
   ]
  },
  {
   "cell_type": "code",
   "execution_count": null,
   "id": "f72ea989-53d4-42fb-9c7b-980db90e35bb",
   "metadata": {},
   "outputs": [],
   "source": [
    "import pandas as pd\n",
    "df = pd.read_csv(\"cps09mar/cps09mar.txt\",sep = \"\\t\", header=None)\n",
    "df.columns = [\"age\", \"female\", \"hisp\", \"education\", \"earnings\", \"hours\", \"week\", \"union\", \"uncov\", \"region\", \"race\", \"marital\"]\n",
    "df.head()"
   ]
  },
  {
   "cell_type": "markdown",
   "id": "4028fb4b-12b6-4e5c-9cd0-572594725d74",
   "metadata": {},
   "source": [
    "The shape function gives the number of observtions and the number of variables."
   ]
  },
  {
   "cell_type": "code",
   "execution_count": null,
   "id": "5c539f98-bd94-46a6-b58d-7dc014ce9184",
   "metadata": {},
   "outputs": [],
   "source": [
    "df.shape"
   ]
  },
  {
   "cell_type": "markdown",
   "id": "e06ee4a3-eefa-4cec-8560-95fc86db6630",
   "metadata": {},
   "source": [
    "The function describe can be used to see summary statistics for the variables in the data."
   ]
  },
  {
   "cell_type": "code",
   "execution_count": null,
   "id": "67bef8e2-d168-450e-866f-58e67238545f",
   "metadata": {},
   "outputs": [],
   "source": [
    "df.describe()"
   ]
  },
  {
   "cell_type": "markdown",
   "id": "1a5d6cff-1cc8-4308-af5c-52e154754676",
   "metadata": {},
   "source": [
    "We consider the subsample of 19-80 year old males with 16 years of education and create a binary variable married."
   ]
  },
  {
   "cell_type": "code",
   "execution_count": null,
   "id": "c47c828e-c297-49ac-8788-67cc7cef146a",
   "metadata": {},
   "outputs": [],
   "source": [
    "df = df[(df.female == 0) & (df.age >= 19) & (df.age <= 80) & (df.education ==16)]\n",
    "df['married'] = (df.marital == 1) | (df.marital == 2) | (df.marital == 3) | (df.marital == 4)\n",
    "df.shape"
   ]
  },
  {
   "cell_type": "markdown",
   "id": "16e911ae-063b-4e01-8817-d34da3a23e7b",
   "metadata": {
    "tags": []
   },
   "source": [
    "## Logit with Maximum LikeLihood Estimation\n",
    "The following loop updates  intercept a and slope b until log likelihood is maximized. The likelihood and first and second derivatives expressions are for the case of two parameters."
   ]
  },
  {
   "cell_type": "code",
   "execution_count": null,
   "id": "168611a4-3888-4de4-963d-02ac13bbbf21",
   "metadata": {},
   "outputs": [],
   "source": [
    "iter = 0\n",
    "a = df['married'].mean()\n",
    "#a = 0\n",
    "b = 0\n",
    "df['z'] = pd.eval('(a + b * df.age) * (2 * df.married - 1)')\n",
    "LL =  pd.eval('log(1 /(1 + exp(-df.z)))').sum()\n",
    "while True:\n",
    "    print('Iteration ',iter,': a = ',a,', b = ',b,', Log Likelihood = ',LL)\n",
    "    dLL_da =  pd.eval('(2 * df.married - 1) /(1 + exp(df.z))').sum()\n",
    "    dLL_db =  pd.eval('(2 * df.married - 1) * df.age /(1 + exp(df.z))').sum()\n",
    "    d2LL_da2 = pd.eval('- exp(df.z) /(1 + exp(df.z)) ** 2').sum()\n",
    "    d2LL_db2 = pd.eval('- exp(df.z) * df.age ** 2 /(1 + exp(df.z)) ** 2').sum()\n",
    "    d2LL_dadb = pd.eval('- exp(df.z) * df.age /(1 + exp(df.z)) ** 2').sum()\n",
    "    newa = a - (d2LL_db2 * dLL_da - d2LL_dadb * dLL_db) / (d2LL_da2 * d2LL_db2 - d2LL_dadb ** 2)\n",
    "    newb = b - (d2LL_da2 * dLL_db - d2LL_dadb * dLL_da) / (d2LL_da2 * d2LL_db2 - d2LL_dadb ** 2)\n",
    "    df['z'] = pd.eval('(newa + newb * df.age) * (2 * df.married - 1)')\n",
    "    newLL =  pd.eval('log(1 /(1 + exp(-df.z)))').sum()\n",
    "    converged = (abs(newa -a) < 0.00001) & (abs(newb -b) < 0.00001) & (abs(newLL -LL) < 0.00001)\n",
    "    a = newa\n",
    "    b = newb\n",
    "    LL = newLL\n",
    "    iter = iter + 1\n",
    "    if converged:\n",
    "        break\n",
    "df = df.drop('z', axis=1)"
   ]
  }
 ],
 "metadata": {
  "kernelspec": {
   "display_name": "Python 3 (ipykernel)",
   "language": "python",
   "name": "python3"
  },
  "language_info": {
   "codemirror_mode": {
    "name": "ipython",
    "version": 3
   },
   "file_extension": ".py",
   "mimetype": "text/x-python",
   "name": "python",
   "nbconvert_exporter": "python",
   "pygments_lexer": "ipython3",
   "version": "3.10.12"
  }
 },
 "nbformat": 4,
 "nbformat_minor": 5
}
